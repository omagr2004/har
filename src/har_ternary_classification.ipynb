{
 "cells": [
  {
   "cell_type": "markdown",
   "metadata": {},
   "source": [
    "### Step 1 Data Subset Creation"
   ]
  },
  {
   "cell_type": "code",
   "execution_count": 1,
   "metadata": {},
   "outputs": [],
   "source": [
    "# src/har_ternary_classification.py\n",
    "\n",
    "import pandas as pd\n",
    "import numpy as np\n",
    "from sklearn.preprocessing import MinMaxScaler\n",
    "from sklearn.model_selection import train_test_split\n",
    "\n",
    "# Load the dataset\n",
    "def load_data():\n",
    "    # Load training data\n",
    "    X_train = pd.read_csv('../data/UCI HAR Dataset/train/X_train.txt', sep='\\\\s+', header=None)\n",
    "    y_train = pd.read_csv('../data/UCI HAR Dataset/train/y_train.txt', sep='\\\\s+', header=None)\n",
    "    \n",
    "    # Load test data\n",
    "    X_test = pd.read_csv('../data/UCI HAR Dataset/test/X_test.txt', sep='\\\\s+', header=None)\n",
    "    y_test = pd.read_csv('../data/UCI HAR Dataset/test/y_test.txt', sep='\\\\s+', header=None)\n",
    "    \n",
    "    return X_train, y_train, X_test, y_test\n",
    "\n",
    "\n",
    "# Update the filtering function to remap labels (1->0, 4->1, 5->2)\n",
    "def filter_ternary_classification(X, y):\n",
    "    mapping = {1: 0, 4: 1, 5: 2}\n",
    "    mask = y[0].isin(mapping.keys())\n",
    "    y_ternary = y[mask].replace(mapping)\n",
    "    X = X[mask]\n",
    "    return X, y_ternary\n",
    "\n",
    "# X_test, y_test = filter_ternary_classification(X_test, y_test)\n",
    "\n",
    "X_train, y_train, X_test, y_test = load_data()\n",
    "X_train, y_train = filter_ternary_classification(X_train, y_train)\n",
    "X_test, y_test = filter_ternary_classification(X_test, y_test)"
   ]
  },
  {
   "cell_type": "markdown",
   "metadata": {},
   "source": [
    "### Step 2 Data preprocessing"
   ]
  },
  {
   "cell_type": "code",
   "execution_count": 3,
   "metadata": {},
   "outputs": [
    {
     "name": "stderr",
     "output_type": "stream",
     "text": [
      "C:\\Users\\rahul\\AppData\\Local\\Temp\\ipykernel_18120\\1085628656.py:22: FutureWarning: Calling int on a single element Series is deprecated and will raise a TypeError in the future. Use int(ser.iloc[0]) instead\n",
      "  segments.append(int(segment.iloc[0]))\n"
     ]
    }
   ],
   "source": [
    "# src/har_ternary_classification.py\n",
    "from sklearn.utils.class_weight import compute_class_weight\n",
    "# Normalize the data\n",
    "scaler = MinMaxScaler(feature_range=(-1, 1))\n",
    "X_train_scaled = scaler.fit_transform(X_train)\n",
    "X_test_scaled = scaler.transform(X_test)\n",
    "\n",
    "# Segment the data into fixed-size windows\n",
    "def segment_data(X, window_size=128):\n",
    "    segments = []\n",
    "    for start in range(0, len(X) - window_size + 1, window_size):\n",
    "        segment = X[start:start + window_size]\n",
    "        segments.append(segment)\n",
    "    return np.array(segments)\n",
    "\n",
    "# Updated segment_labels to extract a scalar label for each segment\n",
    "def segment_labels(y, window_size=128):\n",
    "    segments = []\n",
    "    for start in range(0, len(y) - window_size + 1, window_size):\n",
    "        segment = y[start:start + window_size]\n",
    "        # If y is a DataFrame use y.iloc[start, 0]; if a Series, use int(y.iloc[start])\n",
    "        segments.append(int(segment.iloc[0]))\n",
    "    return np.array(segments)\n",
    "\n",
    "X_train_segments = segment_data(X_train_scaled)\n",
    "X_test_segments = segment_data(X_test_scaled)\n",
    "y_train_segments = segment_labels(y_train)\n",
    "y_test_segments = segment_labels(y_test)\n",
    "\n",
    "X_train_split, X_val_split, y_train_split, y_val_split = train_test_split(X_train_segments, y_train_segments, test_size=0.2, random_state=42)\n",
    "\n",
    "class_weights = compute_class_weight(class_weight='balanced', classes=np.unique(y_train_segments), y=y_train_segments)\n",
    "class_weights_dict = {i: class_weights[i] for i in range(len(class_weights))}"
   ]
  },
  {
   "cell_type": "markdown",
   "metadata": {},
   "source": [
    "### Step 3 Model Building & Training"
   ]
  },
  {
   "cell_type": "code",
   "execution_count": 4,
   "metadata": {},
   "outputs": [
    {
     "name": "stdout",
     "output_type": "stream",
     "text": [
      "Epoch 1/20\n",
      "\u001b[1m1/1\u001b[0m \u001b[32m━━━━━━━━━━━━━━━━━━━━\u001b[0m\u001b[37m\u001b[0m \u001b[1m2s\u001b[0m 2s/step - accuracy: 0.2500 - loss: 1.7415 - val_accuracy: 0.5000 - val_loss: 0.9389\n",
      "Epoch 2/20\n",
      "\u001b[1m1/1\u001b[0m \u001b[32m━━━━━━━━━━━━━━━━━━━━\u001b[0m\u001b[37m\u001b[0m \u001b[1m0s\u001b[0m 170ms/step - accuracy: 0.3750 - loss: 2.3856 - val_accuracy: 0.6667 - val_loss: 0.8848\n",
      "Epoch 3/20\n",
      "\u001b[1m1/1\u001b[0m \u001b[32m━━━━━━━━━━━━━━━━━━━━\u001b[0m\u001b[37m\u001b[0m \u001b[1m0s\u001b[0m 157ms/step - accuracy: 0.2917 - loss: 1.4663 - val_accuracy: 0.1667 - val_loss: 1.0006\n",
      "Epoch 4/20\n",
      "\u001b[1m1/1\u001b[0m \u001b[32m━━━━━━━━━━━━━━━━━━━━\u001b[0m\u001b[37m\u001b[0m \u001b[1m0s\u001b[0m 153ms/step - accuracy: 0.4167 - loss: 1.4183 - val_accuracy: 0.1667 - val_loss: 1.1597\n",
      "Epoch 5/20\n",
      "\u001b[1m1/1\u001b[0m \u001b[32m━━━━━━━━━━━━━━━━━━━━\u001b[0m\u001b[37m\u001b[0m \u001b[1m0s\u001b[0m 192ms/step - accuracy: 0.5417 - loss: 1.2993 - val_accuracy: 0.1667 - val_loss: 1.1482\n",
      "Epoch 6/20\n",
      "\u001b[1m1/1\u001b[0m \u001b[32m━━━━━━━━━━━━━━━━━━━━\u001b[0m\u001b[37m\u001b[0m \u001b[1m0s\u001b[0m 180ms/step - accuracy: 0.5000 - loss: 1.1610 - val_accuracy: 0.6667 - val_loss: 0.9535\n",
      "Epoch 7/20\n",
      "\u001b[1m1/1\u001b[0m \u001b[32m━━━━━━━━━━━━━━━━━━━━\u001b[0m\u001b[37m\u001b[0m \u001b[1m0s\u001b[0m 229ms/step - accuracy: 0.4583 - loss: 1.1098 - val_accuracy: 0.6667 - val_loss: 0.8693\n",
      "Epoch 8/20\n",
      "\u001b[1m1/1\u001b[0m \u001b[32m━━━━━━━━━━━━━━━━━━━━\u001b[0m\u001b[37m\u001b[0m \u001b[1m0s\u001b[0m 229ms/step - accuracy: 0.3750 - loss: 1.2497 - val_accuracy: 0.6667 - val_loss: 0.8409\n",
      "Epoch 9/20\n",
      "\u001b[1m1/1\u001b[0m \u001b[32m━━━━━━━━━━━━━━━━━━━━\u001b[0m\u001b[37m\u001b[0m \u001b[1m0s\u001b[0m 260ms/step - accuracy: 0.4583 - loss: 1.0255 - val_accuracy: 0.6667 - val_loss: 0.8271\n",
      "Epoch 10/20\n",
      "\u001b[1m1/1\u001b[0m \u001b[32m━━━━━━━━━━━━━━━━━━━━\u001b[0m\u001b[37m\u001b[0m \u001b[1m0s\u001b[0m 269ms/step - accuracy: 0.6667 - loss: 0.8140 - val_accuracy: 0.8333 - val_loss: 0.8001\n",
      "Epoch 11/20\n",
      "\u001b[1m1/1\u001b[0m \u001b[32m━━━━━━━━━━━━━━━━━━━━\u001b[0m\u001b[37m\u001b[0m \u001b[1m0s\u001b[0m 281ms/step - accuracy: 0.7500 - loss: 0.7773 - val_accuracy: 0.6667 - val_loss: 0.7687\n",
      "Epoch 12/20\n",
      "\u001b[1m1/1\u001b[0m \u001b[32m━━━━━━━━━━━━━━━━━━━━\u001b[0m\u001b[37m\u001b[0m \u001b[1m0s\u001b[0m 262ms/step - accuracy: 0.7917 - loss: 0.5554 - val_accuracy: 0.6667 - val_loss: 0.7507\n",
      "Epoch 13/20\n",
      "\u001b[1m1/1\u001b[0m \u001b[32m━━━━━━━━━━━━━━━━━━━━\u001b[0m\u001b[37m\u001b[0m \u001b[1m0s\u001b[0m 320ms/step - accuracy: 0.7083 - loss: 0.5945 - val_accuracy: 0.6667 - val_loss: 0.7203\n",
      "Epoch 14/20\n",
      "\u001b[1m1/1\u001b[0m \u001b[32m━━━━━━━━━━━━━━━━━━━━\u001b[0m\u001b[37m\u001b[0m \u001b[1m0s\u001b[0m 203ms/step - accuracy: 0.5833 - loss: 0.6295 - val_accuracy: 0.6667 - val_loss: 0.6844\n",
      "Epoch 15/20\n",
      "\u001b[1m1/1\u001b[0m \u001b[32m━━━━━━━━━━━━━━━━━━━━\u001b[0m\u001b[37m\u001b[0m \u001b[1m0s\u001b[0m 254ms/step - accuracy: 0.7500 - loss: 0.5885 - val_accuracy: 0.8333 - val_loss: 0.6607\n",
      "Epoch 16/20\n",
      "\u001b[1m1/1\u001b[0m \u001b[32m━━━━━━━━━━━━━━━━━━━━\u001b[0m\u001b[37m\u001b[0m \u001b[1m0s\u001b[0m 276ms/step - accuracy: 0.8333 - loss: 0.3453 - val_accuracy: 0.6667 - val_loss: 0.6566\n",
      "Epoch 17/20\n",
      "\u001b[1m1/1\u001b[0m \u001b[32m━━━━━━━━━━━━━━━━━━━━\u001b[0m\u001b[37m\u001b[0m \u001b[1m0s\u001b[0m 228ms/step - accuracy: 0.7500 - loss: 0.5626 - val_accuracy: 0.6667 - val_loss: 0.6452\n",
      "Epoch 18/20\n",
      "\u001b[1m1/1\u001b[0m \u001b[32m━━━━━━━━━━━━━━━━━━━━\u001b[0m\u001b[37m\u001b[0m \u001b[1m0s\u001b[0m 216ms/step - accuracy: 0.7917 - loss: 0.4212 - val_accuracy: 0.6667 - val_loss: 0.6183\n",
      "Epoch 19/20\n",
      "\u001b[1m1/1\u001b[0m \u001b[32m━━━━━━━━━━━━━━━━━━━━\u001b[0m\u001b[37m\u001b[0m \u001b[1m0s\u001b[0m 275ms/step - accuracy: 0.6250 - loss: 0.8484 - val_accuracy: 0.6667 - val_loss: 0.5937\n",
      "Epoch 20/20\n",
      "\u001b[1m1/1\u001b[0m \u001b[32m━━━━━━━━━━━━━━━━━━━━\u001b[0m\u001b[37m\u001b[0m \u001b[1m0s\u001b[0m 251ms/step - accuracy: 0.7917 - loss: 0.4942 - val_accuracy: 0.6667 - val_loss: 0.5908\n"
     ]
    }
   ],
   "source": [
    "# src/har_ternary_classification.py\n",
    "\n",
    "import tensorflow as tf\n",
    "from tensorflow.keras.models import Sequential\n",
    "from tensorflow.keras.layers import Input, Conv1D, MaxPooling1D, Flatten, Dense, Dropout\n",
    "from tensorflow.keras.utils import to_categorical\n",
    "\n",
    "# Convert the labels to categorical\n",
    "y_train_split = to_categorical(y_train_split-1, num_classes=3)\n",
    "y_val_split = to_categorical(y_val_split-1,num_classes=3)\n",
    "y_test_segments = to_categorical(y_test_segments-1,num_classes=3)\n",
    "\n",
    "\n",
    "# Build a simple CNN model with Dropout layers\n",
    "def build_model(input_shape):\n",
    "    model = Sequential([\n",
    "        Input(shape=input_shape),\n",
    "        Conv1D(64, kernel_size=3, activation='relu'),\n",
    "        MaxPooling1D(pool_size=2),\n",
    "        Dropout(0.5),\n",
    "        Conv1D(128, kernel_size=3, activation='relu'),\n",
    "        MaxPooling1D(pool_size=2),\n",
    "        Dropout(0.5),\n",
    "        Flatten(),\n",
    "        Dense(100, activation='relu'),\n",
    "        Dropout(0.5),\n",
    "        Dense(3, activation='sigmoid')\n",
    "    ])\n",
    "    model.compile(optimizer='adam', loss='categorical_crossentropy', metrics=['accuracy'])\n",
    "    return model\n",
    "\n",
    "\n",
    "input_shape = (X_train_segments.shape[1], X_train_segments.shape[2])\n",
    "model = build_model(input_shape)\n",
    "\n",
    "# class_weights = {0: 1.0, 1: 2.0}  # Class weights for ternary classification\n",
    "# Train the model\n",
    "history = model.fit(X_train_split, y_train_split, epochs=20, batch_size=32, validation_data=(X_val_split, y_val_split),class_weight=class_weights_dict)"
   ]
  },
  {
   "cell_type": "markdown",
   "metadata": {},
   "source": [
    "### Step 4 Evaluation"
   ]
  },
  {
   "cell_type": "code",
   "execution_count": 5,
   "metadata": {},
   "outputs": [
    {
     "name": "stdout",
     "output_type": "stream",
     "text": [
      "\u001b[1m1/1\u001b[0m \u001b[32m━━━━━━━━━━━━━━━━━━━━\u001b[0m\u001b[37m\u001b[0m \u001b[1m0s\u001b[0m 115ms/step\n",
      "Accuracy: 0.7272727272727273\n",
      "Precision: 0.8636363636363636\n",
      "Recall: 0.7272727272727273\n",
      "F1 Score: 0.7359307359307359\n",
      "Confusion Matrix:\n",
      "[[2 0 2]\n",
      " [0 3 1]\n",
      " [0 0 3]]\n"
     ]
    }
   ],
   "source": [
    "# src/har_ternary_classification.py\n",
    "\n",
    "from sklearn.metrics import accuracy_score, precision_score, recall_score, confusion_matrix, f1_score\n",
    "import json\n",
    "# Evaluate the model\n",
    "y_pred = model.predict(X_test_segments)\n",
    "y_pred_classes = np.argmax(y_pred, axis=1)\n",
    "y_true_classes = np.argmax(y_test_segments, axis=1)\n",
    "\n",
    "accuracy = accuracy_score(y_true_classes, y_pred_classes)\n",
    "precision = precision_score(y_true_classes, y_pred_classes, average='weighted')\n",
    "recall = recall_score(y_true_classes, y_pred_classes, average='weighted')\n",
    "f1 = f1_score(y_true_classes, y_pred_classes, average='weighted')\n",
    "conf_matrix = confusion_matrix(y_true_classes, y_pred_classes)\n",
    "\n",
    "print(f'Accuracy: {accuracy}')\n",
    "print(f'Precision: {precision}')\n",
    "print(f'Recall: {recall}')\n",
    "print(f'F1 Score: {f1}')\n",
    "print(f'Confusion Matrix:\\n{conf_matrix}')\n",
    "\n",
    "# # Save the evaluation metrics\n",
    "# metrics = {\n",
    "#     'accuracy': accuracy,\n",
    "#     'precision': precision,\n",
    "#     'recall': recall,\n",
    "#     'f1_score': f1,\n",
    "#     'confusion_matrix': conf_matrix.tolist()  # Convert numpy array to list for JSON serialization\n",
    "# }\n",
    "\n",
    "# with open('../outputs/har_ternary_classifier_metrics.json', 'w') as f:\n",
    "#     json.dump(metrics, f)\n",
    "\n",
    "# # Save the trained model\n",
    "# model.save('../outputs/har_ternary_classifier.h5')"
   ]
  },
  {
   "cell_type": "code",
   "execution_count": 6,
   "metadata": {},
   "outputs": [],
   "source": [
    "import json\n",
    "\n",
    "# Save the evaluation metrics\n",
    "metrics = {\n",
    "    'accuracy': accuracy,\n",
    "    'precision': precision,\n",
    "    'recall': recall,\n",
    "    'f1_score': f1,\n",
    "    'confusion_matrix': conf_matrix.tolist()  # Convert numpy array to list for JSON serialization\n",
    "}\n",
    "\n",
    "with open('../outputs/har_ternary_classifier_metrics.json', 'w') as f:\n",
    "    json.dump(metrics, f)\n",
    "    "
   ]
  },
  {
   "cell_type": "code",
   "execution_count": 7,
   "metadata": {},
   "outputs": [
    {
     "name": "stderr",
     "output_type": "stream",
     "text": [
      "WARNING:absl:You are saving your model as an HDF5 file via `model.save()` or `keras.saving.save_model(model)`. This file format is considered legacy. We recommend using instead the native Keras format, e.g. `model.save('my_model.keras')` or `keras.saving.save_model(model, 'my_model.keras')`. \n"
     ]
    }
   ],
   "source": [
    "model.save('../outputs/har_ternary_classifier.h5')"
   ]
  }
 ],
 "metadata": {
  "kernelspec": {
   "display_name": "Python 3",
   "language": "python",
   "name": "python3"
  },
  "language_info": {
   "codemirror_mode": {
    "name": "ipython",
    "version": 3
   },
   "file_extension": ".py",
   "mimetype": "text/x-python",
   "name": "python",
   "nbconvert_exporter": "python",
   "pygments_lexer": "ipython3",
   "version": "3.12.2"
  }
 },
 "nbformat": 4,
 "nbformat_minor": 2
}
